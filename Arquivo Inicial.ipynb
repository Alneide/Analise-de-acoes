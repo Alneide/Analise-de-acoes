{
 "cells": [
  {
   "cell_type": "markdown",
   "metadata": {},
   "source": [
    "# Projeto Ciencia de Dados: Carteira de Ações com Inteligência Artificial\n",
    "\n",
    "- Projeto Inspiração: https://medium.com/swlh/teaching-a-machine-to-trade-stocks-like-warren-buffett-part-i-445849b208c6\n",
    "- Resumo Fundamentos Empresas BR: https://fundamentus.com.br/index.php"
   ]
  },
  {
   "cell_type": "markdown",
   "metadata": {},
   "source": [
    "### Criar Dicionários de Dataframes com cada empresa"
   ]
  },
  {
   "cell_type": "code",
   "execution_count": 13,
   "metadata": {},
   "outputs": [
    {
     "name": "stdout",
     "output_type": "stream",
     "text": [
      "ABEV3\n",
      "WARNING *** OLE2 inconsistency: SSCS size is 0 but SSAT size is non-zero\n",
      "WARNING *** OLE2 inconsistency: SSCS size is 0 but SSAT size is non-zero\n",
      "AZUL4\n",
      "WARNING *** file size (30309) not 512 + multiple of sector size (512)\n",
      "WARNING *** OLE2 inconsistency: SSCS size is 0 but SSAT size is non-zero\n",
      "WARNING *** file size (30309) not 512 + multiple of sector size (512)\n",
      "WARNING *** OLE2 inconsistency: SSCS size is 0 but SSAT size is non-zero\n",
      "B3SA3\n",
      "WARNING *** file size (64274) not 512 + multiple of sector size (512)\n",
      "WARNING *** OLE2 inconsistency: SSCS size is 0 but SSAT size is non-zero\n",
      "WARNING *** file size (64274) not 512 + multiple of sector size (512)\n",
      "WARNING *** OLE2 inconsistency: SSCS size is 0 but SSAT size is non-zero\n",
      "BBAS3\n",
      "WARNING *** file size (68412) not 512 + multiple of sector size (512)\n",
      "WARNING *** OLE2 inconsistency: SSCS size is 0 but SSAT size is non-zero\n",
      "WARNING *** file size (68412) not 512 + multiple of sector size (512)\n",
      "WARNING *** OLE2 inconsistency: SSCS size is 0 but SSAT size is non-zero\n",
      "BBDC4\n",
      "WARNING *** file size (68284) not 512 + multiple of sector size (512)\n",
      "WARNING *** OLE2 inconsistency: SSCS size is 0 but SSAT size is non-zero\n"
     ]
    },
    {
     "name": "stderr",
     "output_type": "stream",
     "text": [
      "C:\\Users\\ALNEIDE\\AppData\\Local\\Temp\\ipykernel_10012\\3931719015.py:37: FutureWarning: The frame.append method is deprecated and will be removed from pandas in a future version. Use pandas.concat instead.\n",
      "  fundamentos[nome] = balanco.append(dre)\n",
      "C:\\Users\\ALNEIDE\\AppData\\Local\\Temp\\ipykernel_10012\\3931719015.py:37: FutureWarning: The frame.append method is deprecated and will be removed from pandas in a future version. Use pandas.concat instead.\n",
      "  fundamentos[nome] = balanco.append(dre)\n",
      "C:\\Users\\ALNEIDE\\AppData\\Local\\Temp\\ipykernel_10012\\3931719015.py:37: FutureWarning: The frame.append method is deprecated and will be removed from pandas in a future version. Use pandas.concat instead.\n",
      "  fundamentos[nome] = balanco.append(dre)\n",
      "C:\\Users\\ALNEIDE\\AppData\\Local\\Temp\\ipykernel_10012\\3931719015.py:37: FutureWarning: The frame.append method is deprecated and will be removed from pandas in a future version. Use pandas.concat instead.\n",
      "  fundamentos[nome] = balanco.append(dre)\n",
      "C:\\Users\\ALNEIDE\\AppData\\Local\\Temp\\ipykernel_10012\\3931719015.py:37: FutureWarning: The frame.append method is deprecated and will be removed from pandas in a future version. Use pandas.concat instead.\n",
      "  fundamentos[nome] = balanco.append(dre)\n",
      "C:\\Users\\ALNEIDE\\AppData\\Local\\Temp\\ipykernel_10012\\3931719015.py:37: FutureWarning: The frame.append method is deprecated and will be removed from pandas in a future version. Use pandas.concat instead.\n",
      "  fundamentos[nome] = balanco.append(dre)\n",
      "C:\\Users\\ALNEIDE\\AppData\\Local\\Temp\\ipykernel_10012\\3931719015.py:37: FutureWarning: The frame.append method is deprecated and will be removed from pandas in a future version. Use pandas.concat instead.\n",
      "  fundamentos[nome] = balanco.append(dre)\n"
     ]
    },
    {
     "name": "stdout",
     "output_type": "stream",
     "text": [
      "WARNING *** file size (68284) not 512 + multiple of sector size (512)\n",
      "WARNING *** OLE2 inconsistency: SSCS size is 0 but SSAT size is non-zero\n",
      "BBSE3\n",
      "WARNING *** file size (16355) not 512 + multiple of sector size (512)\n",
      "WARNING *** OLE2 inconsistency: SSCS size is 0 but SSAT size is non-zero\n",
      "WARNING *** file size (16355) not 512 + multiple of sector size (512)\n",
      "WARNING *** OLE2 inconsistency: SSCS size is 0 but SSAT size is non-zero\n",
      "BEEF3\n",
      "WARNING *** file size (64284) not 512 + multiple of sector size (512)\n",
      "WARNING *** OLE2 inconsistency: SSCS size is 0 but SSAT size is non-zero\n",
      "WARNING *** file size (64284) not 512 + multiple of sector size (512)\n",
      "WARNING *** OLE2 inconsistency: SSCS size is 0 but SSAT size is non-zero\n",
      "BPAC11\n",
      "WARNING *** file size (66667) not 512 + multiple of sector size (512)\n",
      "WARNING *** OLE2 inconsistency: SSCS size is 0 but SSAT size is non-zero\n",
      "WARNING *** file size (66667) not 512 + multiple of sector size (512)\n",
      "WARNING *** OLE2 inconsistency: SSCS size is 0 but SSAT size is non-zero\n",
      "BRAP4\n",
      "WARNING *** file size (64404) not 512 + multiple of sector size (512)\n",
      "WARNING *** OLE2 inconsistency: SSCS size is 0 but SSAT size is non-zero\n",
      "WARNING *** file size (64404) not 512 + multiple of sector size (512)\n",
      "WARNING *** OLE2 inconsistency: SSCS size is 0 but SSAT size is non-zero\n",
      "BRDT3\n",
      "WARNING *** file size (30325) not 512 + multiple of sector size (512)\n",
      "WARNING *** OLE2 inconsistency: SSCS size is 0 but SSAT size is non-zero\n",
      "WARNING *** file size (30325) not 512 + multiple of sector size (512)\n",
      "WARNING *** OLE2 inconsistency: SSCS size is 0 but SSAT size is non-zero\n",
      "BRFS3\n",
      "WARNING *** file size (64288) not 512 + multiple of sector size (512)\n",
      "WARNING *** OLE2 inconsistency: SSCS size is 0 but SSAT size is non-zero\n"
     ]
    },
    {
     "name": "stderr",
     "output_type": "stream",
     "text": [
      "C:\\Users\\ALNEIDE\\AppData\\Local\\Temp\\ipykernel_10012\\3931719015.py:37: FutureWarning: The frame.append method is deprecated and will be removed from pandas in a future version. Use pandas.concat instead.\n",
      "  fundamentos[nome] = balanco.append(dre)\n",
      "C:\\Users\\ALNEIDE\\AppData\\Local\\Temp\\ipykernel_10012\\3931719015.py:37: FutureWarning: The frame.append method is deprecated and will be removed from pandas in a future version. Use pandas.concat instead.\n",
      "  fundamentos[nome] = balanco.append(dre)\n",
      "C:\\Users\\ALNEIDE\\AppData\\Local\\Temp\\ipykernel_10012\\3931719015.py:37: FutureWarning: The frame.append method is deprecated and will be removed from pandas in a future version. Use pandas.concat instead.\n",
      "  fundamentos[nome] = balanco.append(dre)\n",
      "C:\\Users\\ALNEIDE\\AppData\\Local\\Temp\\ipykernel_10012\\3931719015.py:37: FutureWarning: The frame.append method is deprecated and will be removed from pandas in a future version. Use pandas.concat instead.\n",
      "  fundamentos[nome] = balanco.append(dre)\n",
      "C:\\Users\\ALNEIDE\\AppData\\Local\\Temp\\ipykernel_10012\\3931719015.py:37: FutureWarning: The frame.append method is deprecated and will be removed from pandas in a future version. Use pandas.concat instead.\n",
      "  fundamentos[nome] = balanco.append(dre)\n"
     ]
    },
    {
     "name": "stdout",
     "output_type": "stream",
     "text": [
      "WARNING *** file size (64288) not 512 + multiple of sector size (512)\n",
      "WARNING *** OLE2 inconsistency: SSCS size is 0 but SSAT size is non-zero\n",
      "BRKM5\n",
      "WARNING *** file size (64284) not 512 + multiple of sector size (512)\n",
      "WARNING *** OLE2 inconsistency: SSCS size is 0 but SSAT size is non-zero\n",
      "WARNING *** file size (64284) not 512 + multiple of sector size (512)\n",
      "WARNING *** OLE2 inconsistency: SSCS size is 0 but SSAT size is non-zero\n",
      "BRML3\n",
      "WARNING *** file size (64322) not 512 + multiple of sector size (512)\n",
      "WARNING *** OLE2 inconsistency: SSCS size is 0 but SSAT size is non-zero\n",
      "WARNING *** file size (64322) not 512 + multiple of sector size (512)\n",
      "WARNING *** OLE2 inconsistency: SSCS size is 0 but SSAT size is non-zero\n",
      "BTOW3\n",
      "WARNING *** file size (64334) not 512 + multiple of sector size (512)\n",
      "WARNING *** OLE2 inconsistency: SSCS size is 0 but SSAT size is non-zero\n",
      "WARNING *** file size (64334) not 512 + multiple of sector size (512)\n",
      "WARNING *** OLE2 inconsistency: SSCS size is 0 but SSAT size is non-zero\n",
      "CCRO3\n",
      "WARNING *** file size (64340) not 512 + multiple of sector size (512)\n",
      "WARNING *** OLE2 inconsistency: SSCS size is 0 but SSAT size is non-zero\n",
      "WARNING *** file size (64340) not 512 + multiple of sector size (512)\n",
      "WARNING *** OLE2 inconsistency: SSCS size is 0 but SSAT size is non-zero\n"
     ]
    },
    {
     "name": "stderr",
     "output_type": "stream",
     "text": [
      "C:\\Users\\ALNEIDE\\AppData\\Local\\Temp\\ipykernel_10012\\3931719015.py:37: FutureWarning: The frame.append method is deprecated and will be removed from pandas in a future version. Use pandas.concat instead.\n",
      "  fundamentos[nome] = balanco.append(dre)\n",
      "C:\\Users\\ALNEIDE\\AppData\\Local\\Temp\\ipykernel_10012\\3931719015.py:37: FutureWarning: The frame.append method is deprecated and will be removed from pandas in a future version. Use pandas.concat instead.\n",
      "  fundamentos[nome] = balanco.append(dre)\n",
      "C:\\Users\\ALNEIDE\\AppData\\Local\\Temp\\ipykernel_10012\\3931719015.py:37: FutureWarning: The frame.append method is deprecated and will be removed from pandas in a future version. Use pandas.concat instead.\n",
      "  fundamentos[nome] = balanco.append(dre)\n",
      "C:\\Users\\ALNEIDE\\AppData\\Local\\Temp\\ipykernel_10012\\3931719015.py:37: FutureWarning: The frame.append method is deprecated and will be removed from pandas in a future version. Use pandas.concat instead.\n",
      "  fundamentos[nome] = balanco.append(dre)\n",
      "C:\\Users\\ALNEIDE\\AppData\\Local\\Temp\\ipykernel_10012\\3931719015.py:37: FutureWarning: The frame.append method is deprecated and will be removed from pandas in a future version. Use pandas.concat instead.\n",
      "  fundamentos[nome] = balanco.append(dre)\n"
     ]
    },
    {
     "name": "stdout",
     "output_type": "stream",
     "text": [
      "CIEL3\n",
      "WARNING *** file size (64136) not 512 + multiple of sector size (512)\n",
      "WARNING *** OLE2 inconsistency: SSCS size is 0 but SSAT size is non-zero\n",
      "WARNING *** file size (64136) not 512 + multiple of sector size (512)\n",
      "WARNING *** OLE2 inconsistency: SSCS size is 0 but SSAT size is non-zero\n",
      "CMIG4\n",
      "WARNING *** file size (64388) not 512 + multiple of sector size (512)\n",
      "WARNING *** OLE2 inconsistency: SSCS size is 0 but SSAT size is non-zero\n",
      "WARNING *** file size (64388) not 512 + multiple of sector size (512)\n",
      "WARNING *** OLE2 inconsistency: SSCS size is 0 but SSAT size is non-zero\n",
      "COGN3\n",
      "WARNING *** file size (64388) not 512 + multiple of sector size (512)\n",
      "WARNING *** OLE2 inconsistency: SSCS size is 0 but SSAT size is non-zero\n",
      "WARNING *** file size (64388) not 512 + multiple of sector size (512)\n",
      "WARNING *** OLE2 inconsistency: SSCS size is 0 but SSAT size is non-zero\n",
      "CPFE3\n",
      "WARNING *** file size (64412) not 512 + multiple of sector size (512)\n",
      "WARNING *** OLE2 inconsistency: SSCS size is 0 but SSAT size is non-zero\n",
      "WARNING *** file size (64412) not 512 + multiple of sector size (512)\n",
      "WARNING *** OLE2 inconsistency: SSCS size is 0 but SSAT size is non-zero\n",
      "CPLE6\n",
      "WARNING *** file size (64280) not 512 + multiple of sector size (512)\n",
      "WARNING *** OLE2 inconsistency: SSCS size is 0 but SSAT size is non-zero\n"
     ]
    },
    {
     "name": "stderr",
     "output_type": "stream",
     "text": [
      "C:\\Users\\ALNEIDE\\AppData\\Local\\Temp\\ipykernel_10012\\3931719015.py:37: FutureWarning: The frame.append method is deprecated and will be removed from pandas in a future version. Use pandas.concat instead.\n",
      "  fundamentos[nome] = balanco.append(dre)\n",
      "C:\\Users\\ALNEIDE\\AppData\\Local\\Temp\\ipykernel_10012\\3931719015.py:37: FutureWarning: The frame.append method is deprecated and will be removed from pandas in a future version. Use pandas.concat instead.\n",
      "  fundamentos[nome] = balanco.append(dre)\n",
      "C:\\Users\\ALNEIDE\\AppData\\Local\\Temp\\ipykernel_10012\\3931719015.py:37: FutureWarning: The frame.append method is deprecated and will be removed from pandas in a future version. Use pandas.concat instead.\n",
      "  fundamentos[nome] = balanco.append(dre)\n",
      "C:\\Users\\ALNEIDE\\AppData\\Local\\Temp\\ipykernel_10012\\3931719015.py:37: FutureWarning: The frame.append method is deprecated and will be removed from pandas in a future version. Use pandas.concat instead.\n",
      "  fundamentos[nome] = balanco.append(dre)\n",
      "C:\\Users\\ALNEIDE\\AppData\\Local\\Temp\\ipykernel_10012\\3931719015.py:37: FutureWarning: The frame.append method is deprecated and will be removed from pandas in a future version. Use pandas.concat instead.\n",
      "  fundamentos[nome] = balanco.append(dre)\n"
     ]
    },
    {
     "name": "stdout",
     "output_type": "stream",
     "text": [
      "WARNING *** file size (64280) not 512 + multiple of sector size (512)\n",
      "WARNING *** OLE2 inconsistency: SSCS size is 0 but SSAT size is non-zero\n",
      "CRFB3\n",
      "WARNING *** file size (30325) not 512 + multiple of sector size (512)\n",
      "WARNING *** OLE2 inconsistency: SSCS size is 0 but SSAT size is non-zero\n",
      "WARNING *** file size (30325) not 512 + multiple of sector size (512)\n",
      "WARNING *** OLE2 inconsistency: SSCS size is 0 but SSAT size is non-zero\n",
      "CSAN3\n",
      "WARNING *** file size (64107) not 512 + multiple of sector size (512)\n",
      "WARNING *** OLE2 inconsistency: SSCS size is 0 but SSAT size is non-zero\n",
      "WARNING *** file size (64107) not 512 + multiple of sector size (512)\n",
      "WARNING *** OLE2 inconsistency: SSCS size is 0 but SSAT size is non-zero\n",
      "CSNA3\n",
      "WARNING *** file size (64276) not 512 + multiple of sector size (512)\n",
      "WARNING *** OLE2 inconsistency: SSCS size is 0 but SSAT size is non-zero\n",
      "WARNING *** file size (64276) not 512 + multiple of sector size (512)\n",
      "WARNING *** OLE2 inconsistency: SSCS size is 0 but SSAT size is non-zero\n",
      "CVCB3\n",
      "WARNING *** file size (50451) not 512 + multiple of sector size (512)\n",
      "WARNING *** OLE2 inconsistency: SSCS size is 0 but SSAT size is non-zero\n",
      "WARNING *** file size (50451) not 512 + multiple of sector size (512)\n",
      "WARNING *** OLE2 inconsistency: SSCS size is 0 but SSAT size is non-zero\n",
      "CYRE3\n",
      "WARNING *** file size (64310) not 512 + multiple of sector size (512)\n",
      "WARNING *** OLE2 inconsistency: SSCS size is 0 but SSAT size is non-zero\n"
     ]
    },
    {
     "name": "stderr",
     "output_type": "stream",
     "text": [
      "C:\\Users\\ALNEIDE\\AppData\\Local\\Temp\\ipykernel_10012\\3931719015.py:37: FutureWarning: The frame.append method is deprecated and will be removed from pandas in a future version. Use pandas.concat instead.\n",
      "  fundamentos[nome] = balanco.append(dre)\n",
      "C:\\Users\\ALNEIDE\\AppData\\Local\\Temp\\ipykernel_10012\\3931719015.py:37: FutureWarning: The frame.append method is deprecated and will be removed from pandas in a future version. Use pandas.concat instead.\n",
      "  fundamentos[nome] = balanco.append(dre)\n",
      "C:\\Users\\ALNEIDE\\AppData\\Local\\Temp\\ipykernel_10012\\3931719015.py:37: FutureWarning: The frame.append method is deprecated and will be removed from pandas in a future version. Use pandas.concat instead.\n",
      "  fundamentos[nome] = balanco.append(dre)\n",
      "C:\\Users\\ALNEIDE\\AppData\\Local\\Temp\\ipykernel_10012\\3931719015.py:37: FutureWarning: The frame.append method is deprecated and will be removed from pandas in a future version. Use pandas.concat instead.\n",
      "  fundamentos[nome] = balanco.append(dre)\n",
      "C:\\Users\\ALNEIDE\\AppData\\Local\\Temp\\ipykernel_10012\\3931719015.py:37: FutureWarning: The frame.append method is deprecated and will be removed from pandas in a future version. Use pandas.concat instead.\n",
      "  fundamentos[nome] = balanco.append(dre)\n"
     ]
    },
    {
     "name": "stdout",
     "output_type": "stream",
     "text": [
      "WARNING *** file size (64310) not 512 + multiple of sector size (512)\n",
      "WARNING *** OLE2 inconsistency: SSCS size is 0 but SSAT size is non-zero\n",
      "ECOR3\n",
      "WARNING *** file size (64292) not 512 + multiple of sector size (512)\n",
      "WARNING *** OLE2 inconsistency: SSCS size is 0 but SSAT size is non-zero\n",
      "WARNING *** file size (64292) not 512 + multiple of sector size (512)\n",
      "WARNING *** OLE2 inconsistency: SSCS size is 0 but SSAT size is non-zero\n",
      "EGIE3\n",
      "WARNING *** file size (64296) not 512 + multiple of sector size (512)\n",
      "WARNING *** OLE2 inconsistency: SSCS size is 0 but SSAT size is non-zero\n",
      "WARNING *** file size (64296) not 512 + multiple of sector size (512)\n",
      "WARNING *** OLE2 inconsistency: SSCS size is 0 but SSAT size is non-zero\n",
      "ELET6\n",
      "WARNING *** file size (64398) not 512 + multiple of sector size (512)\n",
      "WARNING *** OLE2 inconsistency: SSCS size is 0 but SSAT size is non-zero\n",
      "WARNING *** file size (64398) not 512 + multiple of sector size (512)\n",
      "WARNING *** OLE2 inconsistency: SSCS size is 0 but SSAT size is non-zero\n",
      "EMBR3\n",
      "WARNING *** file size (64284) not 512 + multiple of sector size (512)\n",
      "WARNING *** OLE2 inconsistency: SSCS size is 0 but SSAT size is non-zero\n",
      "WARNING *** file size (64284) not 512 + multiple of sector size (512)\n",
      "WARNING *** OLE2 inconsistency: SSCS size is 0 but SSAT size is non-zero\n"
     ]
    },
    {
     "name": "stderr",
     "output_type": "stream",
     "text": [
      "C:\\Users\\ALNEIDE\\AppData\\Local\\Temp\\ipykernel_10012\\3931719015.py:37: FutureWarning: The frame.append method is deprecated and will be removed from pandas in a future version. Use pandas.concat instead.\n",
      "  fundamentos[nome] = balanco.append(dre)\n",
      "C:\\Users\\ALNEIDE\\AppData\\Local\\Temp\\ipykernel_10012\\3931719015.py:37: FutureWarning: The frame.append method is deprecated and will be removed from pandas in a future version. Use pandas.concat instead.\n",
      "  fundamentos[nome] = balanco.append(dre)\n",
      "C:\\Users\\ALNEIDE\\AppData\\Local\\Temp\\ipykernel_10012\\3931719015.py:37: FutureWarning: The frame.append method is deprecated and will be removed from pandas in a future version. Use pandas.concat instead.\n",
      "  fundamentos[nome] = balanco.append(dre)\n",
      "C:\\Users\\ALNEIDE\\AppData\\Local\\Temp\\ipykernel_10012\\3931719015.py:37: FutureWarning: The frame.append method is deprecated and will be removed from pandas in a future version. Use pandas.concat instead.\n",
      "  fundamentos[nome] = balanco.append(dre)\n",
      "C:\\Users\\ALNEIDE\\AppData\\Local\\Temp\\ipykernel_10012\\3931719015.py:37: FutureWarning: The frame.append method is deprecated and will be removed from pandas in a future version. Use pandas.concat instead.\n",
      "  fundamentos[nome] = balanco.append(dre)\n"
     ]
    },
    {
     "name": "stdout",
     "output_type": "stream",
     "text": [
      "ENBR3\n",
      "WARNING *** file size (64322) not 512 + multiple of sector size (512)\n",
      "WARNING *** OLE2 inconsistency: SSCS size is 0 but SSAT size is non-zero\n",
      "WARNING *** file size (64322) not 512 + multiple of sector size (512)\n",
      "WARNING *** OLE2 inconsistency: SSCS size is 0 but SSAT size is non-zero\n",
      "ENEV3\n",
      "WARNING *** file size (64280) not 512 + multiple of sector size (512)\n",
      "WARNING *** OLE2 inconsistency: SSCS size is 0 but SSAT size is non-zero\n",
      "WARNING *** file size (64280) not 512 + multiple of sector size (512)\n",
      "WARNING *** OLE2 inconsistency: SSCS size is 0 but SSAT size is non-zero\n",
      "ENGI11\n",
      "WARNING *** file size (64286) not 512 + multiple of sector size (512)\n",
      "WARNING *** OLE2 inconsistency: SSCS size is 0 but SSAT size is non-zero\n",
      "WARNING *** file size (64286) not 512 + multiple of sector size (512)\n",
      "WARNING *** OLE2 inconsistency: SSCS size is 0 but SSAT size is non-zero\n",
      "EQTL3\n",
      "WARNING *** file size (64424) not 512 + multiple of sector size (512)\n",
      "WARNING *** OLE2 inconsistency: SSCS size is 0 but SSAT size is non-zero\n",
      "WARNING *** file size (64424) not 512 + multiple of sector size (512)\n",
      "WARNING *** OLE2 inconsistency: SSCS size is 0 but SSAT size is non-zero\n",
      "EZTC3\n"
     ]
    },
    {
     "name": "stderr",
     "output_type": "stream",
     "text": [
      "C:\\Users\\ALNEIDE\\AppData\\Local\\Temp\\ipykernel_10012\\3931719015.py:37: FutureWarning: The frame.append method is deprecated and will be removed from pandas in a future version. Use pandas.concat instead.\n",
      "  fundamentos[nome] = balanco.append(dre)\n",
      "C:\\Users\\ALNEIDE\\AppData\\Local\\Temp\\ipykernel_10012\\3931719015.py:37: FutureWarning: The frame.append method is deprecated and will be removed from pandas in a future version. Use pandas.concat instead.\n",
      "  fundamentos[nome] = balanco.append(dre)\n",
      "C:\\Users\\ALNEIDE\\AppData\\Local\\Temp\\ipykernel_10012\\3931719015.py:37: FutureWarning: The frame.append method is deprecated and will be removed from pandas in a future version. Use pandas.concat instead.\n",
      "  fundamentos[nome] = balanco.append(dre)\n",
      "C:\\Users\\ALNEIDE\\AppData\\Local\\Temp\\ipykernel_10012\\3931719015.py:37: FutureWarning: The frame.append method is deprecated and will be removed from pandas in a future version. Use pandas.concat instead.\n",
      "  fundamentos[nome] = balanco.append(dre)\n",
      "C:\\Users\\ALNEIDE\\AppData\\Local\\Temp\\ipykernel_10012\\3931719015.py:37: FutureWarning: The frame.append method is deprecated and will be removed from pandas in a future version. Use pandas.concat instead.\n",
      "  fundamentos[nome] = balanco.append(dre)\n",
      "C:\\Users\\ALNEIDE\\AppData\\Local\\Temp\\ipykernel_10012\\3931719015.py:37: FutureWarning: The frame.append method is deprecated and will be removed from pandas in a future version. Use pandas.concat instead.\n",
      "  fundamentos[nome] = balanco.append(dre)\n"
     ]
    },
    {
     "name": "stdout",
     "output_type": "stream",
     "text": [
      "WARNING *** file size (64280) not 512 + multiple of sector size (512)\n",
      "WARNING *** OLE2 inconsistency: SSCS size is 0 but SSAT size is non-zero\n",
      "WARNING *** file size (64280) not 512 + multiple of sector size (512)\n",
      "WARNING *** OLE2 inconsistency: SSCS size is 0 but SSAT size is non-zero\n",
      "FLRY3\n",
      "WARNING *** file size (64282) not 512 + multiple of sector size (512)\n",
      "WARNING *** OLE2 inconsistency: SSCS size is 0 but SSAT size is non-zero\n",
      "WARNING *** file size (64282) not 512 + multiple of sector size (512)\n",
      "WARNING *** OLE2 inconsistency: SSCS size is 0 but SSAT size is non-zero\n",
      "GGBR4\n",
      "WARNING *** file size (64256) not 512 + multiple of sector size (512)\n",
      "WARNING *** OLE2 inconsistency: SSCS size is 0 but SSAT size is non-zero\n",
      "WARNING *** file size (64256) not 512 + multiple of sector size (512)\n",
      "WARNING *** OLE2 inconsistency: SSCS size is 0 but SSAT size is non-zero\n",
      "GNDI3\n",
      "WARNING *** file size (24955) not 512 + multiple of sector size (512)\n",
      "WARNING *** OLE2 inconsistency: SSCS size is 0 but SSAT size is non-zero\n",
      "WARNING *** file size (24955) not 512 + multiple of sector size (512)\n",
      "WARNING *** OLE2 inconsistency: SSCS size is 0 but SSAT size is non-zero\n",
      "GOAU4\n",
      "WARNING *** file size (64270) not 512 + multiple of sector size (512)\n",
      "WARNING *** OLE2 inconsistency: SSCS size is 0 but SSAT size is non-zero\n",
      "WARNING *** file size (64270) not 512 + multiple of sector size (512)\n",
      "WARNING *** OLE2 inconsistency: SSCS size is 0 but SSAT size is non-zero\n",
      "GOLL4\n",
      "WARNING *** file size (64336) not 512 + multiple of sector size (512)\n",
      "WARNING *** OLE2 inconsistency: SSCS size is 0 but SSAT size is non-zero\n",
      "WARNING *** file size (64336) not 512 + multiple of sector size (512)\n",
      "WARNING *** OLE2 inconsistency: SSCS size is 0 but SSAT size is non-zero\n",
      "HAPV3\n",
      "WARNING *** file size (24947) not 512 + multiple of sector size (512)\n",
      "WARNING *** OLE2 inconsistency: SSCS size is 0 but SSAT size is non-zero\n",
      "WARNING *** file size (24947) not 512 + multiple of sector size (512)\n",
      "WARNING *** OLE2 inconsistency: SSCS size is 0 but SSAT size is non-zero\n",
      "HGTX3\n",
      "WARNING *** file size (64290) not 512 + multiple of sector size (512)\n",
      "WARNING *** OLE2 inconsistency: SSCS size is 0 but SSAT size is non-zero\n",
      "WARNING *** file size (64290) not 512 + multiple of sector size (512)\n",
      "WARNING *** OLE2 inconsistency: SSCS size is 0 but SSAT size is non-zero\n",
      "HYPE3\n",
      "WARNING *** file size (64282) not 512 + multiple of sector size (512)\n",
      "WARNING *** OLE2 inconsistency: SSCS size is 0 but SSAT size is non-zero\n",
      "WARNING *** file size (64282) not 512 + multiple of sector size (512)\n",
      "WARNING *** OLE2 inconsistency: SSCS size is 0 but SSAT size is non-zero\n",
      "IGTA3\n",
      "WARNING *** file size (64286) not 512 + multiple of sector size (512)\n",
      "WARNING *** OLE2 inconsistency: SSCS size is 0 but SSAT size is non-zero\n",
      "WARNING *** file size (64286) not 512 + multiple of sector size (512)\n",
      "WARNING *** OLE2 inconsistency: SSCS size is 0 but SSAT size is non-zero\n",
      "ITSA4\n",
      "WARNING *** file size (64282) not 512 + multiple of sector size (512)\n",
      "WARNING *** OLE2 inconsistency: SSCS size is 0 but SSAT size is non-zero\n",
      "WARNING *** file size (64282) not 512 + multiple of sector size (512)\n",
      "WARNING *** OLE2 inconsistency: SSCS size is 0 but SSAT size is non-zero\n"
     ]
    },
    {
     "name": "stderr",
     "output_type": "stream",
     "text": [
      "C:\\Users\\ALNEIDE\\AppData\\Local\\Temp\\ipykernel_10012\\3931719015.py:37: FutureWarning: The frame.append method is deprecated and will be removed from pandas in a future version. Use pandas.concat instead.\n",
      "  fundamentos[nome] = balanco.append(dre)\n",
      "C:\\Users\\ALNEIDE\\AppData\\Local\\Temp\\ipykernel_10012\\3931719015.py:37: FutureWarning: The frame.append method is deprecated and will be removed from pandas in a future version. Use pandas.concat instead.\n",
      "  fundamentos[nome] = balanco.append(dre)\n",
      "C:\\Users\\ALNEIDE\\AppData\\Local\\Temp\\ipykernel_10012\\3931719015.py:37: FutureWarning: The frame.append method is deprecated and will be removed from pandas in a future version. Use pandas.concat instead.\n",
      "  fundamentos[nome] = balanco.append(dre)\n",
      "C:\\Users\\ALNEIDE\\AppData\\Local\\Temp\\ipykernel_10012\\3931719015.py:37: FutureWarning: The frame.append method is deprecated and will be removed from pandas in a future version. Use pandas.concat instead.\n",
      "  fundamentos[nome] = balanco.append(dre)\n",
      "C:\\Users\\ALNEIDE\\AppData\\Local\\Temp\\ipykernel_10012\\3931719015.py:37: FutureWarning: The frame.append method is deprecated and will be removed from pandas in a future version. Use pandas.concat instead.\n",
      "  fundamentos[nome] = balanco.append(dre)\n",
      "C:\\Users\\ALNEIDE\\AppData\\Local\\Temp\\ipykernel_10012\\3931719015.py:37: FutureWarning: The frame.append method is deprecated and will be removed from pandas in a future version. Use pandas.concat instead.\n",
      "  fundamentos[nome] = balanco.append(dre)\n"
     ]
    },
    {
     "name": "stdout",
     "output_type": "stream",
     "text": [
      "ITUB4\n",
      "WARNING *** file size (68522) not 512 + multiple of sector size (512)\n",
      "WARNING *** OLE2 inconsistency: SSCS size is 0 but SSAT size is non-zero\n",
      "WARNING *** file size (68522) not 512 + multiple of sector size (512)\n",
      "WARNING *** OLE2 inconsistency: SSCS size is 0 but SSAT size is non-zero\n",
      "JBSS3\n",
      "WARNING *** file size (64330) not 512 + multiple of sector size (512)\n",
      "WARNING *** OLE2 inconsistency: SSCS size is 0 but SSAT size is non-zero\n",
      "WARNING *** file size (64330) not 512 + multiple of sector size (512)\n",
      "WARNING *** OLE2 inconsistency: SSCS size is 0 but SSAT size is non-zero\n",
      "JHSF3\n",
      "WARNING *** file size (64288) not 512 + multiple of sector size (512)\n",
      "WARNING *** OLE2 inconsistency: SSCS size is 0 but SSAT size is non-zero\n",
      "WARNING *** file size (64288) not 512 + multiple of sector size (512)\n",
      "WARNING *** OLE2 inconsistency: SSCS size is 0 but SSAT size is non-zero\n",
      "KLBN11\n",
      "WARNING *** file size (64282) not 512 + multiple of sector size (512)\n",
      "WARNING *** OLE2 inconsistency: SSCS size is 0 but SSAT size is non-zero\n",
      "WARNING *** file size (64282) not 512 + multiple of sector size (512)\n",
      "WARNING *** OLE2 inconsistency: SSCS size is 0 but SSAT size is non-zero\n",
      "LAME4\n",
      "WARNING *** file size (64312) not 512 + multiple of sector size (512)\n",
      "WARNING *** OLE2 inconsistency: SSCS size is 0 but SSAT size is non-zero\n"
     ]
    },
    {
     "name": "stderr",
     "output_type": "stream",
     "text": [
      "C:\\Users\\ALNEIDE\\AppData\\Local\\Temp\\ipykernel_10012\\3931719015.py:37: FutureWarning: The frame.append method is deprecated and will be removed from pandas in a future version. Use pandas.concat instead.\n",
      "  fundamentos[nome] = balanco.append(dre)\n",
      "C:\\Users\\ALNEIDE\\AppData\\Local\\Temp\\ipykernel_10012\\3931719015.py:37: FutureWarning: The frame.append method is deprecated and will be removed from pandas in a future version. Use pandas.concat instead.\n",
      "  fundamentos[nome] = balanco.append(dre)\n",
      "C:\\Users\\ALNEIDE\\AppData\\Local\\Temp\\ipykernel_10012\\3931719015.py:37: FutureWarning: The frame.append method is deprecated and will be removed from pandas in a future version. Use pandas.concat instead.\n",
      "  fundamentos[nome] = balanco.append(dre)\n",
      "C:\\Users\\ALNEIDE\\AppData\\Local\\Temp\\ipykernel_10012\\3931719015.py:37: FutureWarning: The frame.append method is deprecated and will be removed from pandas in a future version. Use pandas.concat instead.\n",
      "  fundamentos[nome] = balanco.append(dre)\n",
      "C:\\Users\\ALNEIDE\\AppData\\Local\\Temp\\ipykernel_10012\\3931719015.py:37: FutureWarning: The frame.append method is deprecated and will be removed from pandas in a future version. Use pandas.concat instead.\n",
      "  fundamentos[nome] = balanco.append(dre)\n"
     ]
    },
    {
     "name": "stdout",
     "output_type": "stream",
     "text": [
      "WARNING *** file size (64312) not 512 + multiple of sector size (512)\n",
      "WARNING *** OLE2 inconsistency: SSCS size is 0 but SSAT size is non-zero\n",
      "LCAM3\n",
      "WARNING *** file size (62367) not 512 + multiple of sector size (512)\n",
      "WARNING *** OLE2 inconsistency: SSCS size is 0 but SSAT size is non-zero\n",
      "WARNING *** file size (62367) not 512 + multiple of sector size (512)\n",
      "WARNING *** OLE2 inconsistency: SSCS size is 0 but SSAT size is non-zero\n",
      "LREN3\n",
      "WARNING *** file size (64282) not 512 + multiple of sector size (512)\n",
      "WARNING *** OLE2 inconsistency: SSCS size is 0 but SSAT size is non-zero\n",
      "WARNING *** file size (64282) not 512 + multiple of sector size (512)\n",
      "WARNING *** OLE2 inconsistency: SSCS size is 0 but SSAT size is non-zero\n",
      "MGLU3\n",
      "WARNING *** file size (62531) not 512 + multiple of sector size (512)\n",
      "WARNING *** OLE2 inconsistency: SSCS size is 0 but SSAT size is non-zero\n",
      "WARNING *** file size (62531) not 512 + multiple of sector size (512)\n",
      "WARNING *** OLE2 inconsistency: SSCS size is 0 but SSAT size is non-zero\n",
      "MRFG3\n",
      "WARNING *** file size (64284) not 512 + multiple of sector size (512)\n",
      "WARNING *** OLE2 inconsistency: SSCS size is 0 but SSAT size is non-zero\n",
      "WARNING *** file size (64284) not 512 + multiple of sector size (512)\n",
      "WARNING *** OLE2 inconsistency: SSCS size is 0 but SSAT size is non-zero\n",
      "MRVE3\n",
      "WARNING *** file size (64276) not 512 + multiple of sector size (512)\n",
      "WARNING *** OLE2 inconsistency: SSCS size is 0 but SSAT size is non-zero\n"
     ]
    },
    {
     "name": "stderr",
     "output_type": "stream",
     "text": [
      "C:\\Users\\ALNEIDE\\AppData\\Local\\Temp\\ipykernel_10012\\3931719015.py:37: FutureWarning: The frame.append method is deprecated and will be removed from pandas in a future version. Use pandas.concat instead.\n",
      "  fundamentos[nome] = balanco.append(dre)\n",
      "C:\\Users\\ALNEIDE\\AppData\\Local\\Temp\\ipykernel_10012\\3931719015.py:37: FutureWarning: The frame.append method is deprecated and will be removed from pandas in a future version. Use pandas.concat instead.\n",
      "  fundamentos[nome] = balanco.append(dre)\n",
      "C:\\Users\\ALNEIDE\\AppData\\Local\\Temp\\ipykernel_10012\\3931719015.py:37: FutureWarning: The frame.append method is deprecated and will be removed from pandas in a future version. Use pandas.concat instead.\n",
      "  fundamentos[nome] = balanco.append(dre)\n",
      "C:\\Users\\ALNEIDE\\AppData\\Local\\Temp\\ipykernel_10012\\3931719015.py:37: FutureWarning: The frame.append method is deprecated and will be removed from pandas in a future version. Use pandas.concat instead.\n",
      "  fundamentos[nome] = balanco.append(dre)\n",
      "C:\\Users\\ALNEIDE\\AppData\\Local\\Temp\\ipykernel_10012\\3931719015.py:37: FutureWarning: The frame.append method is deprecated and will be removed from pandas in a future version. Use pandas.concat instead.\n",
      "  fundamentos[nome] = balanco.append(dre)\n"
     ]
    },
    {
     "name": "stdout",
     "output_type": "stream",
     "text": [
      "WARNING *** file size (64276) not 512 + multiple of sector size (512)\n",
      "WARNING *** OLE2 inconsistency: SSCS size is 0 but SSAT size is non-zero\n",
      "MULT3\n",
      "WARNING *** file size (64288) not 512 + multiple of sector size (512)\n",
      "WARNING *** OLE2 inconsistency: SSCS size is 0 but SSAT size is non-zero\n",
      "WARNING *** file size (64288) not 512 + multiple of sector size (512)\n",
      "WARNING *** OLE2 inconsistency: SSCS size is 0 but SSAT size is non-zero\n",
      "NTCO3\n",
      "WARNING *** file size (15892) not 512 + multiple of sector size (512)\n",
      "WARNING *** OLE2 inconsistency: SSCS size is 0 but SSAT size is non-zero\n",
      "WARNING *** file size (15892) not 512 + multiple of sector size (512)\n",
      "WARNING *** OLE2 inconsistency: SSCS size is 0 but SSAT size is non-zero\n",
      "PCAR3\n",
      "WARNING *** file size (64296) not 512 + multiple of sector size (512)\n",
      "WARNING *** OLE2 inconsistency: SSCS size is 0 but SSAT size is non-zero\n",
      "WARNING *** file size (64296) not 512 + multiple of sector size (512)\n",
      "WARNING *** OLE2 inconsistency: SSCS size is 0 but SSAT size is non-zero\n",
      "PETR4\n",
      "WARNING *** file size (64288) not 512 + multiple of sector size (512)\n",
      "WARNING *** OLE2 inconsistency: SSCS size is 0 but SSAT size is non-zero\n",
      "WARNING *** file size (64288) not 512 + multiple of sector size (512)\n",
      "WARNING *** OLE2 inconsistency: SSCS size is 0 but SSAT size is non-zero\n",
      "PRIO3\n",
      "WARNING *** OLE2 inconsistency: SSCS size is 0 but SSAT size is non-zero\n",
      "WARNING *** OLE2 inconsistency: SSCS size is 0 but SSAT size is non-zero\n",
      "QUAL3\n"
     ]
    },
    {
     "name": "stderr",
     "output_type": "stream",
     "text": [
      "C:\\Users\\ALNEIDE\\AppData\\Local\\Temp\\ipykernel_10012\\3931719015.py:37: FutureWarning: The frame.append method is deprecated and will be removed from pandas in a future version. Use pandas.concat instead.\n",
      "  fundamentos[nome] = balanco.append(dre)\n",
      "C:\\Users\\ALNEIDE\\AppData\\Local\\Temp\\ipykernel_10012\\3931719015.py:37: FutureWarning: The frame.append method is deprecated and will be removed from pandas in a future version. Use pandas.concat instead.\n",
      "  fundamentos[nome] = balanco.append(dre)\n",
      "C:\\Users\\ALNEIDE\\AppData\\Local\\Temp\\ipykernel_10012\\3931719015.py:37: FutureWarning: The frame.append method is deprecated and will be removed from pandas in a future version. Use pandas.concat instead.\n",
      "  fundamentos[nome] = balanco.append(dre)\n",
      "C:\\Users\\ALNEIDE\\AppData\\Local\\Temp\\ipykernel_10012\\3931719015.py:37: FutureWarning: The frame.append method is deprecated and will be removed from pandas in a future version. Use pandas.concat instead.\n",
      "  fundamentos[nome] = balanco.append(dre)\n",
      "C:\\Users\\ALNEIDE\\AppData\\Local\\Temp\\ipykernel_10012\\3931719015.py:37: FutureWarning: The frame.append method is deprecated and will be removed from pandas in a future version. Use pandas.concat instead.\n",
      "  fundamentos[nome] = balanco.append(dre)\n",
      "C:\\Users\\ALNEIDE\\AppData\\Local\\Temp\\ipykernel_10012\\3931719015.py:37: FutureWarning: The frame.append method is deprecated and will be removed from pandas in a future version. Use pandas.concat instead.\n",
      "  fundamentos[nome] = balanco.append(dre)\n"
     ]
    },
    {
     "name": "stdout",
     "output_type": "stream",
     "text": [
      "WARNING *** file size (61185) not 512 + multiple of sector size (512)\n",
      "WARNING *** OLE2 inconsistency: SSCS size is 0 but SSAT size is non-zero\n",
      "WARNING *** file size (61185) not 512 + multiple of sector size (512)\n",
      "WARNING *** OLE2 inconsistency: SSCS size is 0 but SSAT size is non-zero\n",
      "RADL3\n",
      "WARNING *** file size (64060) not 512 + multiple of sector size (512)\n",
      "WARNING *** OLE2 inconsistency: SSCS size is 0 but SSAT size is non-zero\n",
      "WARNING *** file size (64060) not 512 + multiple of sector size (512)\n",
      "WARNING *** OLE2 inconsistency: SSCS size is 0 but SSAT size is non-zero\n",
      "RAIL3\n",
      "WARNING *** file size (64288) not 512 + multiple of sector size (512)\n",
      "WARNING *** OLE2 inconsistency: SSCS size is 0 but SSAT size is non-zero\n",
      "WARNING *** file size (64288) not 512 + multiple of sector size (512)\n",
      "WARNING *** OLE2 inconsistency: SSCS size is 0 but SSAT size is non-zero\n",
      "RENT3\n",
      "WARNING *** file size (64308) not 512 + multiple of sector size (512)\n",
      "WARNING *** OLE2 inconsistency: SSCS size is 0 but SSAT size is non-zero\n",
      "WARNING *** file size (64308) not 512 + multiple of sector size (512)\n",
      "WARNING *** OLE2 inconsistency: SSCS size is 0 but SSAT size is non-zero\n",
      "SANB11\n",
      "WARNING *** file size (68210) not 512 + multiple of sector size (512)\n",
      "WARNING *** OLE2 inconsistency: SSCS size is 0 but SSAT size is non-zero\n",
      "WARNING *** file size (68210) not 512 + multiple of sector size (512)\n",
      "WARNING *** OLE2 inconsistency: SSCS size is 0 but SSAT size is non-zero\n",
      "SBSP3\n",
      "WARNING *** file size (63832) not 512 + multiple of sector size (512)\n",
      "WARNING *** OLE2 inconsistency: SSCS size is 0 but SSAT size is non-zero\n"
     ]
    },
    {
     "name": "stderr",
     "output_type": "stream",
     "text": [
      "C:\\Users\\ALNEIDE\\AppData\\Local\\Temp\\ipykernel_10012\\3931719015.py:37: FutureWarning: The frame.append method is deprecated and will be removed from pandas in a future version. Use pandas.concat instead.\n",
      "  fundamentos[nome] = balanco.append(dre)\n",
      "C:\\Users\\ALNEIDE\\AppData\\Local\\Temp\\ipykernel_10012\\3931719015.py:37: FutureWarning: The frame.append method is deprecated and will be removed from pandas in a future version. Use pandas.concat instead.\n",
      "  fundamentos[nome] = balanco.append(dre)\n",
      "C:\\Users\\ALNEIDE\\AppData\\Local\\Temp\\ipykernel_10012\\3931719015.py:37: FutureWarning: The frame.append method is deprecated and will be removed from pandas in a future version. Use pandas.concat instead.\n",
      "  fundamentos[nome] = balanco.append(dre)\n",
      "C:\\Users\\ALNEIDE\\AppData\\Local\\Temp\\ipykernel_10012\\3931719015.py:37: FutureWarning: The frame.append method is deprecated and will be removed from pandas in a future version. Use pandas.concat instead.\n",
      "  fundamentos[nome] = balanco.append(dre)\n",
      "C:\\Users\\ALNEIDE\\AppData\\Local\\Temp\\ipykernel_10012\\3931719015.py:37: FutureWarning: The frame.append method is deprecated and will be removed from pandas in a future version. Use pandas.concat instead.\n",
      "  fundamentos[nome] = balanco.append(dre)\n"
     ]
    },
    {
     "name": "stdout",
     "output_type": "stream",
     "text": [
      "WARNING *** file size (63832) not 512 + multiple of sector size (512)\n",
      "WARNING *** OLE2 inconsistency: SSCS size is 0 but SSAT size is non-zero\n",
      "SULA11\n",
      "WARNING *** file size (64292) not 512 + multiple of sector size (512)\n",
      "WARNING *** OLE2 inconsistency: SSCS size is 0 but SSAT size is non-zero\n",
      "WARNING *** file size (64292) not 512 + multiple of sector size (512)\n",
      "WARNING *** OLE2 inconsistency: SSCS size is 0 but SSAT size is non-zero\n",
      "SUZB3\n",
      "WARNING *** file size (64294) not 512 + multiple of sector size (512)\n",
      "WARNING *** OLE2 inconsistency: SSCS size is 0 but SSAT size is non-zero\n",
      "WARNING *** file size (64294) not 512 + multiple of sector size (512)\n",
      "WARNING *** OLE2 inconsistency: SSCS size is 0 but SSAT size is non-zero\n",
      "TAEE11\n",
      "WARNING *** file size (64280) not 512 + multiple of sector size (512)\n",
      "WARNING *** OLE2 inconsistency: SSCS size is 0 but SSAT size is non-zero\n",
      "WARNING *** file size (64280) not 512 + multiple of sector size (512)\n",
      "WARNING *** OLE2 inconsistency: SSCS size is 0 but SSAT size is non-zero\n",
      "TIMS3\n",
      "WARNING *** file size (19427) not 512 + multiple of sector size (512)\n",
      "WARNING *** OLE2 inconsistency: SSCS size is 0 but SSAT size is non-zero\n",
      "WARNING *** file size (19427) not 512 + multiple of sector size (512)\n",
      "WARNING *** OLE2 inconsistency: SSCS size is 0 but SSAT size is non-zero\n",
      "TOTS3\n",
      "WARNING *** file size (64280) not 512 + multiple of sector size (512)\n",
      "WARNING *** OLE2 inconsistency: SSCS size is 0 but SSAT size is non-zero\n",
      "WARNING *** file size (64280) not 512 + multiple of sector size (512)\n",
      "WARNING *** OLE2 inconsistency: SSCS size is 0 but SSAT size is non-zero\n",
      "UGPA3\n",
      "WARNING *** file size (64320) not 512 + multiple of sector size (512)\n",
      "WARNING *** OLE2 inconsistency: SSCS size is 0 but SSAT size is non-zero\n"
     ]
    },
    {
     "name": "stderr",
     "output_type": "stream",
     "text": [
      "C:\\Users\\ALNEIDE\\AppData\\Local\\Temp\\ipykernel_10012\\3931719015.py:37: FutureWarning: The frame.append method is deprecated and will be removed from pandas in a future version. Use pandas.concat instead.\n",
      "  fundamentos[nome] = balanco.append(dre)\n",
      "C:\\Users\\ALNEIDE\\AppData\\Local\\Temp\\ipykernel_10012\\3931719015.py:37: FutureWarning: The frame.append method is deprecated and will be removed from pandas in a future version. Use pandas.concat instead.\n",
      "  fundamentos[nome] = balanco.append(dre)\n",
      "C:\\Users\\ALNEIDE\\AppData\\Local\\Temp\\ipykernel_10012\\3931719015.py:37: FutureWarning: The frame.append method is deprecated and will be removed from pandas in a future version. Use pandas.concat instead.\n",
      "  fundamentos[nome] = balanco.append(dre)\n",
      "C:\\Users\\ALNEIDE\\AppData\\Local\\Temp\\ipykernel_10012\\3931719015.py:37: FutureWarning: The frame.append method is deprecated and will be removed from pandas in a future version. Use pandas.concat instead.\n",
      "  fundamentos[nome] = balanco.append(dre)\n",
      "C:\\Users\\ALNEIDE\\AppData\\Local\\Temp\\ipykernel_10012\\3931719015.py:37: FutureWarning: The frame.append method is deprecated and will be removed from pandas in a future version. Use pandas.concat instead.\n",
      "  fundamentos[nome] = balanco.append(dre)\n",
      "C:\\Users\\ALNEIDE\\AppData\\Local\\Temp\\ipykernel_10012\\3931719015.py:37: FutureWarning: The frame.append method is deprecated and will be removed from pandas in a future version. Use pandas.concat instead.\n",
      "  fundamentos[nome] = balanco.append(dre)\n"
     ]
    },
    {
     "name": "stdout",
     "output_type": "stream",
     "text": [
      "WARNING *** file size (64320) not 512 + multiple of sector size (512)\n",
      "WARNING *** OLE2 inconsistency: SSCS size is 0 but SSAT size is non-zero\n",
      "USIM5\n",
      "WARNING *** file size (64286) not 512 + multiple of sector size (512)\n",
      "WARNING *** OLE2 inconsistency: SSCS size is 0 but SSAT size is non-zero\n",
      "WARNING *** file size (64286) not 512 + multiple of sector size (512)\n",
      "WARNING *** OLE2 inconsistency: SSCS size is 0 but SSAT size is non-zero\n",
      "VALE3\n",
      "WARNING *** file size (64278) not 512 + multiple of sector size (512)\n",
      "WARNING *** OLE2 inconsistency: SSCS size is 0 but SSAT size is non-zero\n",
      "WARNING *** file size (64278) not 512 + multiple of sector size (512)\n",
      "WARNING *** OLE2 inconsistency: SSCS size is 0 but SSAT size is non-zero\n",
      "VIVT3\n",
      "WARNING *** file size (64294) not 512 + multiple of sector size (512)\n",
      "WARNING *** OLE2 inconsistency: SSCS size is 0 but SSAT size is non-zero\n",
      "WARNING *** file size (64294) not 512 + multiple of sector size (512)\n",
      "WARNING *** OLE2 inconsistency: SSCS size is 0 but SSAT size is non-zero\n",
      "VVAR3\n",
      "WARNING *** file size (64288) not 512 + multiple of sector size (512)\n",
      "WARNING *** OLE2 inconsistency: SSCS size is 0 but SSAT size is non-zero\n",
      "WARNING *** file size (64288) not 512 + multiple of sector size (512)\n",
      "WARNING *** OLE2 inconsistency: SSCS size is 0 but SSAT size is non-zero\n",
      "WEGE3\n"
     ]
    },
    {
     "name": "stderr",
     "output_type": "stream",
     "text": [
      "C:\\Users\\ALNEIDE\\AppData\\Local\\Temp\\ipykernel_10012\\3931719015.py:37: FutureWarning: The frame.append method is deprecated and will be removed from pandas in a future version. Use pandas.concat instead.\n",
      "  fundamentos[nome] = balanco.append(dre)\n",
      "C:\\Users\\ALNEIDE\\AppData\\Local\\Temp\\ipykernel_10012\\3931719015.py:37: FutureWarning: The frame.append method is deprecated and will be removed from pandas in a future version. Use pandas.concat instead.\n",
      "  fundamentos[nome] = balanco.append(dre)\n",
      "C:\\Users\\ALNEIDE\\AppData\\Local\\Temp\\ipykernel_10012\\3931719015.py:37: FutureWarning: The frame.append method is deprecated and will be removed from pandas in a future version. Use pandas.concat instead.\n",
      "  fundamentos[nome] = balanco.append(dre)\n",
      "C:\\Users\\ALNEIDE\\AppData\\Local\\Temp\\ipykernel_10012\\3931719015.py:37: FutureWarning: The frame.append method is deprecated and will be removed from pandas in a future version. Use pandas.concat instead.\n",
      "  fundamentos[nome] = balanco.append(dre)\n"
     ]
    },
    {
     "name": "stdout",
     "output_type": "stream",
     "text": [
      "WARNING *** file size (64282) not 512 + multiple of sector size (512)\n",
      "WARNING *** OLE2 inconsistency: SSCS size is 0 but SSAT size is non-zero\n",
      "WARNING *** file size (64282) not 512 + multiple of sector size (512)\n",
      "WARNING *** OLE2 inconsistency: SSCS size is 0 but SSAT size is non-zero\n",
      "YDUQ3\n",
      "WARNING *** OLE2 inconsistency: SSCS size is 0 but SSAT size is non-zero\n",
      "WARNING *** OLE2 inconsistency: SSCS size is 0 but SSAT size is non-zero\n"
     ]
    },
    {
     "name": "stderr",
     "output_type": "stream",
     "text": [
      "C:\\Users\\ALNEIDE\\AppData\\Local\\Temp\\ipykernel_10012\\3931719015.py:37: FutureWarning: The frame.append method is deprecated and will be removed from pandas in a future version. Use pandas.concat instead.\n",
      "  fundamentos[nome] = balanco.append(dre)\n",
      "C:\\Users\\ALNEIDE\\AppData\\Local\\Temp\\ipykernel_10012\\3931719015.py:37: FutureWarning: The frame.append method is deprecated and will be removed from pandas in a future version. Use pandas.concat instead.\n",
      "  fundamentos[nome] = balanco.append(dre)\n"
     ]
    }
   ],
   "source": [
    "import pandas as pd\n",
    "import os\n",
    "\n",
    "empresas = [\"ABEV3\", \"AZUL4\", \"BTOW3\", \"B3SA3\", \"BBSE3\", \"BRML3\", \"BBDC4\", \"BRAP4\", \"BBAS3\", \"BRKM5\", \"BRFS3\", \"BPAC11\", \"CRFB3\", \"CCRO3\", \"CMIG4\", \"HGTX3\", \"CIEL3\", \"COGN3\", \"CPLE6\", \"CSAN3\", \"CPFE3\", \"CVCB3\", \"CYRE3\", \"ECOR3\", \"ELET6\", \"EMBR3\", \"ENBR3\", \"ENGI11\", \"ENEV3\", \"EGIE3\", \"EQTL3\", \"EZTC3\", \"FLRY3\", \"GGBR4\", \"GOAU4\", \"GOLL4\", \"NTCO3\", \"HAPV3\", \"HYPE3\", \"IGTA3\", \"GNDI3\", \"ITSA4\", \"ITUB4\", \"JBSS3\", \"JHSF3\", \"KLBN11\", \"RENT3\", \"LCAM3\", \"LAME4\", \"LREN3\", \"MGLU3\", \"MRFG3\", \"BEEF3\", \"MRVE3\", \"MULT3\", \"PCAR3\", \"PETR4\", \"BRDT3\", \"PRIO3\", \"QUAL3\", \"RADL3\", \"RAIL3\", \"SBSP3\", \"SANB11\", \"CSNA3\", \"SULA11\", \"SUZB3\", \"TAEE11\", \"VIVT3\", \"TIMS3\", \"TOTS3\", \"UGPA3\", \"USIM5\", \"VALE3\", \"VVAR3\", \"WEGE3\", \"YDUQ3\"]\n",
    "\n",
    "# fundamentos = {\n",
    "#      \"ABEV3\": balanco_dre_abev3,\n",
    "#      \"MGLU3\": balanco_dre_mglu3\n",
    "# }\n",
    "fundamentos = {}\n",
    "fundamentos[\"ABEV3\"] = 1\n",
    "arquivos = os.listdir(\"balancos\")\n",
    "for arquivo in arquivos:\n",
    "    nome = arquivo[-9:-4]\n",
    "    if \"11\" in nome:\n",
    "        nome = arquivo[-10:-4]\n",
    "    if nome in empresas:\n",
    "        print(nome)\n",
    "        # pegar o balanco daquela empresa\n",
    "        balanco = pd.read_excel(f\"balancos/{arquivo}\" , sheet_name=0)\n",
    "        # na primeira coluna colucar o t´tulo com o nome da empresa\n",
    "        balanco.iloc[0, 0] = nome\n",
    "        # pegar a primeira linha e tornar um cebeçalho\n",
    "        balanco.columns = balanco.iloc[0]\n",
    "        balanco = balanco[1:]\n",
    "        # tornar  a primeira coluna (que agora tem o nome da empresa)\n",
    "        balanco = balanco.set_index(nome)\n",
    "                \n",
    "        dre = pd.read_excel(f\"balancos/{arquivo}\", sheet_name=1)\n",
    "        # na primeira coluna colucar o t´tulo com o nome da empresa\n",
    "        dre.iloc[0, 0] = nome\n",
    "        # pegar a primeira linha e tornar um cebeçalho\n",
    "        dre.columns = dre.iloc[0]\n",
    "        dre = dre[1:]\n",
    "        # tornar  a primeira coluna (que agora tem o nome da empresa)\n",
    "        dre = dre.set_index(nome)\n",
    "        fundamentos[nome] = balanco.append(dre)\n",
    "       \n",
    "        \n",
    "     \n",
    "       \n",
    "        \n",
    "    \n",
    "\n",
    "    "
   ]
  },
  {
   "cell_type": "markdown",
   "metadata": {},
   "source": [
    "### Pegar Preços das Ações nas Datas Correspondentes"
   ]
  },
  {
   "cell_type": "code",
   "execution_count": 14,
   "metadata": {
    "scrolled": true
   },
   "outputs": [
    {
     "ename": "NameError",
     "evalue": "name 'unique' is not defined",
     "output_type": "error",
     "traceback": [
      "\u001b[1;31m---------------------------------------------------------------------------\u001b[0m",
      "\u001b[1;31mNameError\u001b[0m                                 Traceback (most recent call last)",
      "\u001b[1;32m~\\AppData\\Local\\Temp\\ipykernel_10012\\848936901.py\u001b[0m in \u001b[0;36m<module>\u001b[1;34m\u001b[0m\n\u001b[0;32m      1\u001b[0m \u001b[0mcotacoes_df\u001b[0m \u001b[1;33m=\u001b[0m \u001b[0mpd\u001b[0m\u001b[1;33m.\u001b[0m\u001b[0mread_excel\u001b[0m\u001b[1;33m(\u001b[0m\u001b[1;34m\"cotacoes.xlsx\"\u001b[0m\u001b[1;33m)\u001b[0m\u001b[1;33m\u001b[0m\u001b[1;33m\u001b[0m\u001b[0m\n\u001b[0;32m      2\u001b[0m \u001b[0mcotacoes\u001b[0m \u001b[1;33m=\u001b[0m \u001b[1;33m{\u001b[0m\u001b[1;33m}\u001b[0m\u001b[1;33m\u001b[0m\u001b[1;33m\u001b[0m\u001b[0m\n\u001b[1;32m----> 3\u001b[1;33m \u001b[1;32mfor\u001b[0m \u001b[0mempresas\u001b[0m \u001b[1;32min\u001b[0m \u001b[0mcotacoes_df\u001b[0m\u001b[1;33m[\u001b[0m\u001b[1;34m\"Empresa\"\u001b[0m\u001b[1;33m]\u001b[0m\u001b[1;33m>\u001b[0m\u001b[0munique\u001b[0m\u001b[1;33m(\u001b[0m\u001b[1;33m)\u001b[0m\u001b[1;33m:\u001b[0m\u001b[1;33m\u001b[0m\u001b[1;33m\u001b[0m\u001b[0m\n\u001b[0m\u001b[0;32m      4\u001b[0m     \u001b[0mcotacoes\u001b[0m\u001b[1;33m[\u001b[0m\u001b[0mempresa\u001b[0m\u001b[1;33m]\u001b[0m \u001b[1;33m=\u001b[0m \u001b[0mcotacoes_df\u001b[0m\u001b[1;33m.\u001b[0m\u001b[0mloc\u001b[0m\u001b[1;33m[\u001b[0m\u001b[0mcotacoes_df\u001b[0m\u001b[1;33m[\u001b[0m\u001b[1;34m\"Empresa\"\u001b[0m\u001b[1;33m]\u001b[0m\u001b[1;33m==\u001b[0m\u001b[0mempresa\u001b[0m\u001b[1;33m,\u001b[0m \u001b[1;33m:\u001b[0m\u001b[1;33m]\u001b[0m\u001b[1;33m\u001b[0m\u001b[1;33m\u001b[0m\u001b[0m\n\u001b[0;32m      5\u001b[0m \u001b[1;33m\u001b[0m\u001b[0m\n",
      "\u001b[1;31mNameError\u001b[0m: name 'unique' is not defined"
     ]
    }
   ],
   "source": [
    "cotacoes_df = pd.read_excel(\"cotacoes.xlsx\")\n",
    "cotacoes = {}\n",
    "for empresas in cotacoes_df[\"Empresa\"]>unique():\n",
    "    cotacoes[empresa] = cotacoes_df.loc[cotacoes_df[\"Empresa\"]==empresa, :]\n",
    "    \n",
    "\n",
    "\n",
    "\n"
   ]
  },
  {
   "cell_type": "markdown",
   "metadata": {},
   "source": [
    "\n",
    "\n",
    "### Remover empresas que tem cotações vazias da análise (mesmo após o tratamento que fizemos na hora de pegar as cotações)"
   ]
  },
  {
   "cell_type": "code",
   "execution_count": null,
   "metadata": {},
   "outputs": [],
   "source": [
    "for empresa in empresas:\n",
    "    if cotacoes[empresa].isnull().values.any():\n",
    "        cotacoes.pop(empresa)\n",
    "        fundamentos.pop(empresa)\n",
    "empresas = list(cotacoes.keys())\n",
    "\n",
    "\n"
   ]
  },
  {
   "cell_type": "markdown",
   "metadata": {},
   "source": [
    "### Juntar fundamentos com Preço da Ação"
   ]
  },
  {
   "cell_type": "code",
   "execution_count": null,
   "metadata": {},
   "outputs": [],
   "source": [
    "for empresa in fundamentos:\n",
    "    tabela = fundamentos[empresa].T\n",
    "    tabela.index = pd.to_datetime(tabela.index, format= \"%d/%m/%Y\")\n",
    "    tabela_cotacao = cotacoes[empresa].set_index(\"Date\")\n",
    "    tabela_cotacao = tabela_cotacao[[\"Adj Close\"]]\n",
    "    \n",
    "    tabela = tabela.merge(tabela_cotacao,right_index=True, left_index=True)\n",
    "    tabela.index.name = empresa\n",
    "    fundamentos[empresa] = tabela\n",
    "    \n",
    "        \n",
    "    \n",
    "    "
   ]
  },
  {
   "cell_type": "markdown",
   "metadata": {},
   "source": [
    "### Tratar colunas\n",
    "    \n",
    "1. Vamos pegar apenas empresas que possuem as mesmas colunas\n",
    "2. Ajeitar colunas com nome repetido\n",
    "3. Analisar valores vazios nas colunas"
   ]
  },
  {
   "cell_type": "markdown",
   "metadata": {},
   "source": [
    "###2 Remover da análise  tabela que tenham colunas diferentes"
   ]
  },
  {
   "cell_type": "code",
   "execution_count": null,
   "metadata": {},
   "outputs": [],
   "source": [
    "colunas = list(fundamentos[\"ABEV3\"].columns)\n",
    "\n",
    "for empresa in fundamentos\n",
    "    if set(colunas)!= set(fundamentos[empresa].columns)\n",
    "        fundamentos.pop(empresa)"
   ]
  },
  {
   "cell_type": "markdown",
   "metadata": {},
   "source": [
    "####  2. Ajeitando colunas com o mesmo nome"
   ]
  },
  {
   "cell_type": "code",
   "execution_count": null,
   "metadata": {},
   "outputs": [],
   "source": [
    "texto_colunas = \";\".join(colunas)\n",
    "\n",
    "colunas_modificadas = []\n",
    "for colunas in colunas:\n",
    "    if colunas.count(coluna) == 2 and coluna not in colunas_modificadas:\n",
    "        texto_colunas = texto_colunas.replace(\";\" + coluna + \";\" , \";\" + coluna + \"_1;\" , 1)\n",
    "        colunas_modificadas.append(coluna)\n",
    "colunas = texto_colunas.split(\";\")\n",
    "\n",
    "       "
   ]
  },
  {
   "cell_type": "code",
   "execution_count": null,
   "metadata": {},
   "outputs": [],
   "source": [
    "for empresas in fundamentos:\n",
    "    fundamentos[empresa].columns = colunas"
   ]
  },
  {
   "cell_type": "markdown",
   "metadata": {},
   "source": [
    "#### 3. Analisar valores vazios nas colunas"
   ]
  },
  {
   "cell_type": "code",
   "execution_count": null,
   "metadata": {},
   "outputs": [],
   "source": [
    "valores_vazios = dict.fromkeys(colunas,0)\n",
    "total_linhas = 0\n",
    "for empresa in fundamentos:\n",
    "    tabela = fundamentos[empresa]\n",
    "    total_linhas += tabela.shape[0]\n",
    "    for coluna in colunas:\n",
    "        qtdes_vazios = isnull(tabela[coluna]).sum()\n",
    "        valoes_vazios[coluna] += qtde_vazios\n",
    "        "
   ]
  },
  {
   "cell_type": "code",
   "execution_count": null,
   "metadata": {},
   "outputs": [],
   "source": [
    "remover_colunas = []\n",
    "for coluna in valores_vazios:\n",
    "    if valores_vazios[coluna] > 50:\n",
    "        remover_colunas.append(coluna)\n",
    "for empresa in fundamentos:\n",
    "    fundamentos[empresa] = fundamentos[empresa].drop(remover_colunas, axis=1)\n",
    "    fundamentos[empresa] = fundamentos[empresa].ffill()\n",
    "    "
   ]
  },
  {
   "cell_type": "markdown",
   "metadata": {},
   "source": [
    "### Criando os rótulos: Comprar, Não Comprar ou Vender?\n",
    "\n",
    "Não queremos saber quando vender, mas inclui essa categoria para conseguir identificar quando que o nosso modelo vai sugerir uma compra quando na verdade o melhor momento era vender. Isso significa que o modelo errou \"mais\" do que quando sugeriu comprar e simplesmente o certo era não comprar\n",
    "\n",
    "Regra: \n",
    "1. Subiu mais do que o Ibovespa (ou caiu menos) -> Comprar (Valor = 2)\n",
    "2. Subiu menos do que o Ibovespa até Ibovespa - 2% (ou caiu mais do que Ibovespa até Ibovespa -2%) -> Não Comprar (Valor = 1)\n",
    "3. Subiu menos do que o Ibovespa - 2% (ou caiu mais do que Ibovespa -2%) -> Vender (Valor = 0)"
   ]
  },
  {
   "cell_type": "code",
   "execution_count": null,
   "metadata": {},
   "outputs": [],
   "source": []
  },
  {
   "cell_type": "code",
   "execution_count": null,
   "metadata": {},
   "outputs": [],
   "source": [
    "data_inicial = \"12/20/2012\"\n",
    "data_final = \"04/20/2021\"\n",
    "\n",
    "from pandas_datareader import data as web\n",
    "df_ibov = web.DataReader(\"^BVSP\", data_source=\"yahoo\" , start=data_inicial, end=data_final)\n",
    "\n"
   ]
  },
  {
   "cell_type": "code",
   "execution_count": null,
   "metadata": {},
   "outputs": [],
   "source": [
    "import numpy as np\n",
    "\n",
    "datas = fundamentos[\"ABEV3\"].index\n",
    "for data in datas:\n",
    "    if data not in df_ibov.index:\n",
    "        df_ibov.loc[data] = np.nan\n",
    "df_ibov = df_ibov.sort_index()\n",
    "df_ibov = df_ibov.ffill()\n",
    "df_ibov = df_ibov.rename(columns={\"Adj Close\": \"IBOV\"})\n",
    "for empresa in fundamentos:\n",
    "    fundamentos[empresa] = fundamentos [empresa].merge(df_ibov[[\"IBOV\"]], left_index=True, right_index=True)\n",
    "    \n",
    "\n"
   ]
  },
  {
   "cell_type": "code",
   "execution_count": null,
   "metadata": {},
   "outputs": [],
   "source": [
    "for empresa in fundamentos:\n",
    "    fundamento = fundamentos[empresa]\n",
    "    fundamento = fundamento.sort_index()\n",
    "    for coluna in fundamento:\n",
    "        if \"Adj Close\" in coluna or \"IBOV\" in coluna:\n",
    "            fundamento[\"Adj Close\"] = fundamento[\"Adj Close\"].shift(-1) / fundamento[\"Ad Close\"] - 1\n",
    "            fundamento[\"IBOV\"] = fundamento[\"IBOV\"],shift(-1) / fundamento[\"IBOV\"] - 1\n",
    "            fundamento[\"Resultado\"] = fundamento[\"Adj Close\"] - fundamento[\"IBOV\"]\n",
    "            condicoes = [\n",
    "                (fundamento[\"Resultado'\"] > 0),\n",
    "                (fundamento[\"Resultado'\"] < 0) & (fundamento[\"Resultado'\"] >= 0.02),\n",
    "                (fundamento[\"Resultado'\"] < -0.02)\n",
    "            ]\n",
    "            valores = [2, 1, 0]\n",
    "            fundamento[\"Decisao\"] = np.select(condicoes, valores)\n",
    "        else:\n",
    "        condicoes = [\n",
    "            (fundamento[coluna]- shift(1) > 0) & (fundamento[coluna] < 0),\n",
    "            (fundamento[coluna]- shift(1) < 0) & (fundamento[coluna] > 0),\n",
    "            (fundamento[coluna]- shift(1) < 0) & (fundamento[coluna] < 0),\n",
    "            (fundamento[coluna]- shift(1) == 0) & (fundamento[coluna] > 0),\n",
    "            (fundamento[coluna]- shift(1) == 0) & (fundamento[coluna] < 0),\n",
    "            (fundamento[coluna]- shift(1) < 0) & (fundamento[coluna] == 0),           \n",
    "        ]\n",
    "        valores = [\n",
    "            -1,\n",
    "            1,\n",
    "            (abs(fundamento[coluna].shift(1)) - abs(fundamento[coluna])) / abs(fundaemnto[coluna].shift(1)),\n",
    "            1,\n",
    "            -1,\n",
    "            1,\n",
    "        ]  \n",
    "            \n",
    "        fundamento[coluna] = np.select(condicoes,valores,default=fundamento[coluna] / fundamento[coluna].shift(1) - 1)\n",
    "fundamentos[empresa] = fundamento\n",
    "        "
   ]
  },
  {
   "cell_type": "code",
   "execution_count": null,
   "metadata": {},
   "outputs": [],
   "source": []
  },
  {
   "cell_type": "code",
   "execution_count": null,
   "metadata": {},
   "outputs": [],
   "source": [
    "colunas = list(fundamentos[\"ABEV3\"].columns)\n",
    "valores_vazios = dict.fromkeys(colunas,0)\n",
    "total_linhas = 0\n",
    "for empresa in fundamentos:\n",
    "    tabela = fundamentos[empresa]\n",
    "    total_linhas += tabela.shape[0]\n",
    "    for coluna in colunas:\n",
    "        qtdes_vazios = isnull(tabela[coluna]).sum()\n",
    "        valores_vazios[coluna] += qtde_vazios"
   ]
  },
  {
   "cell_type": "code",
   "execution_count": null,
   "metadata": {},
   "outputs": [],
   "source": [
    "remover_colunas = []\n",
    "for coluna in valores_vazios:\n",
    "    if valores_vazios[coluna] > (total_linhas/ 3):\n",
    "        remover_colunas.append(coluna)\n",
    "        \n",
    "for empresa in fundamentos:\n",
    "    fundamentos[empresa] = fundamentos[empresa].drop(remover_colunas, axis=1)\n",
    "    fundamentos[empresa] = fundamentos[empresa].ffillna(0)"
   ]
  },
  {
   "cell_type": "code",
   "execution_count": null,
   "metadata": {},
   "outputs": [],
   "source": [
    "for empresa in fundamentos:\n",
    "    fundamentos[empresa] = fundamentos[empresa].drop(\"Ad Close\", \"IBOV\", \"Resultado\"}, axis=1)"
   ]
  },
  {
   "cell_type": "markdown",
   "metadata": {},
   "source": [
    "### Hora de tornar tudo 1 dataframe só"
   ]
  },
  {
   "cell_type": "code",
   "execution_count": null,
   "metadata": {},
   "outputs": [],
   "source": [
    "base_dados = pd.DataFrame()\n",
    "for empresa in copia_fundamentos:\n",
    "    copia-fundamentos[empresa] = copia-fundamentos[empresa]\n",
    "    copia-fundamentos[empresa] = copia-fundamentos[empresa].reset_index(drop=True)\n",
    "    base-dados = base_dados.append(copia_fundamentos[empresa])\n",
    "    "
   ]
  },
  {
   "cell_type": "markdown",
   "metadata": {},
   "source": [
    "### Análise Exploratória"
   ]
  },
  {
   "cell_type": "markdown",
   "metadata": {},
   "source": [
    "#### 1. Quantidade de Respostas em cada Tipo de Decisão"
   ]
  },
  {
   "cell_type": "code",
   "execution_count": null,
   "metadata": {},
   "outputs": [],
   "source": [
    "import plotly.express as px\n",
    "import matplotlib.pyplot as plt\n",
    "import seaborn as sns\n",
    "\n",
    "display(base_dados[\"Decisao\"].value counts(normalize=True).map(\"{:.1%}\".format))\n",
    "fig = px.histogram(base_dados, x=\"Decisao\", color=\"Decisao\")\n"
   ]
  },
  {
   "cell_type": "code",
   "execution_count": null,
   "metadata": {},
   "outputs": [],
   "source": [
    "base_dados.loc[base_dados[\"Decisao\"]==1, \"Decisao\"] = 0\n",
    "display(base_dados[\"Decisao\"].value counts(normalize=True).map(\"{:.1%}\".format))\n",
    "fig = px.histogram(base_dados, x=\"Decisao\", color=\"Decisao\")\n",
    "fig.show()\n",
    "\n"
   ]
  },
  {
   "cell_type": "markdown",
   "metadata": {},
   "source": [
    "#### 2. Correlação"
   ]
  },
  {
   "cell_type": "code",
   "execution_count": null,
   "metadata": {},
   "outputs": [],
   "source": [
    "correlacoes =  base_dados.corr()\n",
    "fig, ax = subplots(figsize=(15, 10))\n",
    "sns.heatmap(correlacoes,cmap=\"Wistia\", ax=ax)\n",
    "plt.snow()\n",
    "\n"
   ]
  },
  {
   "cell_type": "markdown",
   "metadata": {},
   "source": [
    "#### Vamos remover Todas as Colunas \"já explicadas\" pelo Ativo Total"
   ]
  },
  {
   "cell_type": "code",
   "execution_count": 15,
   "metadata": {},
   "outputs": [
    {
     "ename": "NameError",
     "evalue": "name 'correlacoes' is not defined",
     "output_type": "error",
     "traceback": [
      "\u001b[1;31m---------------------------------------------------------------------------\u001b[0m",
      "\u001b[1;31mNameError\u001b[0m                                 Traceback (most recent call last)",
      "\u001b[1;32m~\\AppData\\Local\\Temp\\ipykernel_10012\\2333307989.py\u001b[0m in \u001b[0;36m<module>\u001b[1;34m\u001b[0m\n\u001b[0;32m      1\u001b[0m \u001b[0mcorrelacoes_encontradas\u001b[0m \u001b[1;33m=\u001b[0m \u001b[1;33m[\u001b[0m\u001b[1;33m]\u001b[0m\u001b[1;33m\u001b[0m\u001b[1;33m\u001b[0m\u001b[0m\n\u001b[1;32m----> 2\u001b[1;33m \u001b[1;32mfor\u001b[0m \u001b[0mcoluna\u001b[0m \u001b[1;32min\u001b[0m \u001b[0mcorrelacoes\u001b[0m\u001b[1;33m:\u001b[0m\u001b[1;33m\u001b[0m\u001b[1;33m\u001b[0m\u001b[0m\n\u001b[0m\u001b[0;32m      3\u001b[0m     \u001b[1;32mfor\u001b[0m \u001b[0mlinha\u001b[0m \u001b[1;32min\u001b[0m \u001b[0mcorrelacoes\u001b[0m\u001b[1;33m.\u001b[0m\u001b[0mindex\u001b[0m\u001b[1;33m:\u001b[0m\u001b[1;33m\u001b[0m\u001b[1;33m\u001b[0m\u001b[0m\n\u001b[0;32m      4\u001b[0m         \u001b[1;32mif\u001b[0m \u001b[0mlinha\u001b[0m \u001b[1;33m!=\u001b[0m \u001b[0mcoluna\u001b[0m\u001b[1;33m:\u001b[0m\u001b[1;33m\u001b[0m\u001b[1;33m\u001b[0m\u001b[0m\n\u001b[0;32m      5\u001b[0m             \u001b[0mvalor\u001b[0m \u001b[1;33m=\u001b[0m \u001b[0mabs\u001b[0m\u001b[1;33m(\u001b[0m\u001b[0mcorrelacoes\u001b[0m\u001b[1;33m.\u001b[0m\u001b[0mloc\u001b[0m\u001b[1;33m[\u001b[0m\u001b[0mlinha\u001b[0m\u001b[1;33m,\u001b[0m \u001b[0mcoluna\u001b[0m\u001b[1;33m]\u001b[0m\u001b[1;33m)\u001b[0m\u001b[1;33m\u001b[0m\u001b[1;33m\u001b[0m\u001b[0m\n",
      "\u001b[1;31mNameError\u001b[0m: name 'correlacoes' is not defined"
     ]
    }
   ],
   "source": [
    "correlacoes_encontradas = []\n",
    "for coluna in correlacoes:\n",
    "    for linha in correlacoes.index:\n",
    "        if linha != coluna:\n",
    "            valor = abs(correlacoes.loc[linha, coluna])\n",
    "            if valor > 0.8:\n",
    "                correlacoes_encontradas.append((linha, coluna, valor))\n",
    "                "
   ]
  },
  {
   "cell_type": "markdown",
   "metadata": {},
   "source": [
    "### Vamos partir para Feature Selection\n",
    "\n",
    "Será que todas essas features são importantes mesmo para o nosso modelo? Muitas features nem sempre é bom, se pudermos reduzir sem perder eficiência do nosso modelo, melhor\n",
    "\n",
    "Aqui temos 2 alternativas:\n",
    "\n",
    "1. Seguir com todas as features e depois tentar melhorar o nosso modelo\n",
    "2. Usar algum critério para selecionar as melhores features para prever e criar o modelo a partir apenas dessa seleção menor de features\n",
    "\n",
    "Vou seguir com a opção 2, porque é mais rápida e, caso dê certo, facilita a nossa vida. Se der errado, a gente volta aqui e refaz o processo"
   ]
  },
  {
   "cell_type": "code",
   "execution_count": null,
   "metadata": {},
   "outputs": [],
   "source": []
  },
  {
   "cell_type": "markdown",
   "metadata": {},
   "source": [
    "### Aplicação do StandardScaler para melhorar nossos modelos de MachineLearning"
   ]
  },
  {
   "cell_type": "code",
   "execution_count": null,
   "metadata": {},
   "outputs": [],
   "source": []
  },
  {
   "cell_type": "markdown",
   "metadata": {},
   "source": [
    "### Separação dos dados em treino e teste"
   ]
  },
  {
   "cell_type": "code",
   "execution_count": null,
   "metadata": {},
   "outputs": [],
   "source": []
  },
  {
   "cell_type": "markdown",
   "metadata": {},
   "source": [
    "### Criação de um Dummy Classifier (Uma baseline para ver se os nossos modelos são melhores do que puro chute)"
   ]
  },
  {
   "cell_type": "code",
   "execution_count": null,
   "metadata": {},
   "outputs": [],
   "source": []
  },
  {
   "cell_type": "markdown",
   "metadata": {},
   "source": [
    "### Métricas de Avaliação\n",
    "\n",
    "- Precisão vai ser nossa métrica principal\n",
    "- Recall pode ser útil, mas precisão no caso de ações é mt mais importante.\n",
    "\n",
    "Explicação: Foto dos Gatos e Cachorros na Wikipedia: https://en.wikipedia.org/wiki/Precision_and_recall"
   ]
  },
  {
   "cell_type": "code",
   "execution_count": null,
   "metadata": {},
   "outputs": [],
   "source": []
  },
  {
   "cell_type": "markdown",
   "metadata": {},
   "source": [
    "### Modelos que vamos testar\n",
    "- AdaBoost\n",
    "- Decision Tree\n",
    "- Random Forest\n",
    "- ExtraTree\n",
    "- Gradient Boost\n",
    "- K Nearest Neighbors (KNN)\n",
    "- Logistic Regression\n",
    "- Naive Bayes\n",
    "- Support Vector Machine (SVM)\n",
    "- Rede Neural"
   ]
  },
  {
   "cell_type": "code",
   "execution_count": null,
   "metadata": {},
   "outputs": [],
   "source": []
  },
  {
   "cell_type": "markdown",
   "metadata": {},
   "source": [
    "### Agora vamos ao tunning do modelo\n",
    "\n",
    "- é bom sempre incluir no tuning os parâmetros \"padrões\" do modelo, se não poder ser que vc só encontre resultados piores"
   ]
  },
  {
   "cell_type": "code",
   "execution_count": null,
   "metadata": {},
   "outputs": [],
   "source": []
  },
  {
   "cell_type": "markdown",
   "metadata": {},
   "source": [
    "### Vamos seguir então com o Modelo BLA tunado para ser o nosso modelo\n",
    "\n",
    "- Agora ao que interessa...será que vamos conseguir escolher boas ações e ter uma carteira rentável?\n",
    "- Para isso, temos que pegar o último Trimestre (que não usamos para treinar o modelo nem testar) e ver como ele teria saído até o momento em que gravo esse vídeo..."
   ]
  },
  {
   "cell_type": "markdown",
   "metadata": {},
   "source": [
    "### Repetindo os passos com a base fundamentos só que pegando apenas o último tri de cada empresa"
   ]
  },
  {
   "cell_type": "code",
   "execution_count": null,
   "metadata": {},
   "outputs": [],
   "source": []
  },
  {
   "cell_type": "markdown",
   "metadata": {},
   "source": [
    "### Agora fazemos a previsão de decisões"
   ]
  },
  {
   "cell_type": "code",
   "execution_count": null,
   "metadata": {},
   "outputs": [],
   "source": []
  }
 ],
 "metadata": {
  "kernelspec": {
   "display_name": "Python 3 (ipykernel)",
   "language": "python",
   "name": "python3"
  },
  "language_info": {
   "codemirror_mode": {
    "name": "ipython",
    "version": 3
   },
   "file_extension": ".py",
   "mimetype": "text/x-python",
   "name": "python",
   "nbconvert_exporter": "python",
   "pygments_lexer": "ipython3",
   "version": "3.9.13"
  }
 },
 "nbformat": 4,
 "nbformat_minor": 4
}
